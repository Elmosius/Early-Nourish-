{
  "nbformat": 4,
  "nbformat_minor": 0,
  "metadata": {
    "colab": {
      "provenance": [],
      "gpuType": "T4"
    },
    "kernelspec": {
      "name": "python3",
      "display_name": "Python 3"
    },
    "language_info": {
      "name": "python"
    },
    "accelerator": "GPU"
  },
  "cells": [
    {
      "cell_type": "code",
      "source": [
        "import pandas as pd\n",
        "import numpy as np\n",
        "import joblib\n",
        "from sklearn.model_selection import train_test_split\n",
        "from sklearn.preprocessing import StandardScaler, LabelEncoder\n",
        "from sklearn.impute import SimpleImputer\n",
        "from sklearn.ensemble import RandomForestClassifier\n",
        "from sklearn.linear_model import LogisticRegression\n",
        "from sklearn.svm import SVC\n",
        "from sklearn.metrics import classification_report, confusion_matrix, accuracy_score\n",
        "import tensorflow as tf\n",
        "from tensorflow import keras\n",
        "import matplotlib.pyplot as plt"
      ],
      "metadata": {
        "id": "cT7ftCe3gJY-"
      },
      "execution_count": 1,
      "outputs": []
    },
    {
      "source": [
        "# ========== DATA PREPROCESSING ==========\n",
        "print(\"Loading and preprocessing data...\")\n",
        "\n",
        "# Load dataset\n",
        "df = pd.read_csv(\"dataset_stunting.csv\")\n",
        "\n",
        "# Drop kolom tidak digunakan\n",
        "df.drop(columns=[\"Tanggal_Pengukuran\", \"TB_U\", \"ZS_TB_U\"], inplace=True)\n",
        "\n",
        "# Imputasi nilai kosong\n",
        "num_cols = [\"BB_Lahir\", \"TB_Lahir\", \"Umur\", \"Berat\", \"Tinggi\"]\n",
        "imputer = SimpleImputer(strategy=\"mean\")\n",
        "df[num_cols] = imputer.fit_transform(df[num_cols])\n",
        "joblib.dump(imputer, \"imputer.pkl\")\n",
        "\n",
        "# Encode kolom kategorikal\n",
        "jk_encoder = LabelEncoder()\n",
        "df[\"JK\"] = jk_encoder.fit_transform(df[\"JK\"])\n",
        "joblib.dump(jk_encoder, \"jk_encoder.pkl\")\n",
        "\n",
        "status_encoder = LabelEncoder()\n",
        "df[\"Status\"] = status_encoder.fit_transform(df[\"Status\"])\n",
        "joblib.dump(status_encoder, \"status_encoder.pkl\")\n",
        "\n",
        "print(f\"Class distribution before balancing:\")\n",
        "print(df[\"Status\"].value_counts())\n",
        "\n",
        "# Undersampling agar seimbang\n",
        "min_class = df[\"Status\"].value_counts().min()\n",
        "df_balanced = df.groupby(\"Status\").apply(lambda x: x.sample(min_class, random_state=42)).reset_index(drop=True)\n",
        "\n",
        "print(f\"Class distribution after balancing:\")\n",
        "print(df_balanced[\"Status\"].value_counts())\n",
        "\n",
        "# Split fitur dan target\n",
        "X = df_balanced.drop(columns=\"Status\")\n",
        "y = df_balanced[\"Status\"]\n",
        "\n",
        "# Scaling\n",
        "scaler = StandardScaler()\n",
        "X_scaled = scaler.fit_transform(X)\n",
        "joblib.dump(scaler, \"scaler.pkl\")\n",
        "\n",
        "# Train-test split\n",
        "X_train, X_temp, y_train, y_temp = train_test_split(X_scaled, y, test_size=0.4, random_state=42, stratify=y)\n",
        "X_val, X_test, y_val, y_test = train_test_split(X_temp, y_temp, test_size=0.5, random_state=42, stratify=y_temp)\n",
        "\n",
        "print(f\"Train set size: {X_train.shape[0]}\")\n",
        "print(f\"Validation set size: {X_val.shape[0]}\")\n",
        "print(f\"Test set size: {X_test.shape[0]}\")"
      ],
      "cell_type": "code",
      "metadata": {
        "colab": {
          "base_uri": "https://localhost:8080/"
        },
        "id": "Oy-RP_marBng",
        "outputId": "752c0355-2017-46e3-b77c-d0c80f17962f"
      },
      "execution_count": 2,
      "outputs": [
        {
          "output_type": "stream",
          "name": "stdout",
          "text": [
            "Loading and preprocessing data...\n",
            "Class distribution before balancing:\n",
            "Status\n",
            "0    1946\n",
            "2    1938\n",
            "1     726\n",
            "Name: count, dtype: int64\n",
            "Class distribution after balancing:\n",
            "Status\n",
            "0    726\n",
            "1    726\n",
            "2    726\n",
            "Name: count, dtype: int64\n",
            "Train set size: 1306\n",
            "Validation set size: 436\n",
            "Test set size: 436\n"
          ]
        },
        {
          "output_type": "stream",
          "name": "stderr",
          "text": [
            "<ipython-input-2-2243189128>:30: DeprecationWarning: DataFrameGroupBy.apply operated on the grouping columns. This behavior is deprecated, and in a future version of pandas the grouping columns will be excluded from the operation. Either pass `include_groups=False` to exclude the groupings or explicitly select the grouping columns after groupby to silence this warning.\n",
            "  df_balanced = df.groupby(\"Status\").apply(lambda x: x.sample(min_class, random_state=42)).reset_index(drop=True)\n"
          ]
        }
      ]
    },
    {
      "cell_type": "code",
      "source": [
        "# ========== BASELINE MODELS ==========\n",
        "print(\"\\n\" + \"=\"*50)\n",
        "print(\"BASELINE MODELS EVALUATION\")\n",
        "print(\"=\"*50)\n",
        "\n",
        "baseline_results = {}\n",
        "\n",
        "# 1. Logistic Regression\n",
        "print(\"\\n1. Training Logistic Regression...\")\n",
        "lr_model = LogisticRegression(random_state=42, max_iter=1000)\n",
        "lr_model.fit(X_train, y_train)\n",
        "lr_pred = lr_model.predict(X_val)\n",
        "lr_accuracy = accuracy_score(y_val, lr_pred)\n",
        "baseline_results['Logistic Regression'] = lr_accuracy\n",
        "print(f\"Logistic Regression Validation Accuracy: {lr_accuracy:.4f}\")\n",
        "\n",
        "# 2. Random Forest\n",
        "print(\"\\n2. Training Random Forest...\")\n",
        "rf_model = RandomForestClassifier(n_estimators=100, random_state=42)\n",
        "rf_model.fit(X_train, y_train)\n",
        "rf_pred = rf_model.predict(X_val)\n",
        "rf_accuracy = accuracy_score(y_val, rf_pred)\n",
        "baseline_results['Random Forest'] = rf_accuracy\n",
        "print(f\"Random Forest Validation Accuracy: {rf_accuracy:.4f}\")\n",
        "\n",
        "# 3. SVM\n",
        "print(\"\\n3. Training SVM...\")\n",
        "svm_model = SVC(random_state=42, probability=True)\n",
        "svm_model.fit(X_train, y_train)\n",
        "svm_pred = svm_model.predict(X_val)\n",
        "\n",
        "svm_accuracy = accuracy_score(y_val, svm_pred)\n",
        "baseline_results['SVM'] = svm_accuracy\n",
        "print(f\"SVM Validation Accuracy: {svm_accuracy:.4f}\")"
      ],
      "metadata": {
        "id": "oD70GHTUJz2I",
        "colab": {
          "base_uri": "https://localhost:8080/"
        },
        "outputId": "a52f43a9-41c2-449d-cd64-61b887527314"
      },
      "execution_count": 3,
      "outputs": [
        {
          "output_type": "stream",
          "name": "stdout",
          "text": [
            "\n",
            "==================================================\n",
            "BASELINE MODELS EVALUATION\n",
            "==================================================\n",
            "\n",
            "1. Training Logistic Regression...\n",
            "Logistic Regression Validation Accuracy: 0.7706\n",
            "\n",
            "2. Training Random Forest...\n",
            "Random Forest Validation Accuracy: 0.8005\n",
            "\n",
            "3. Training SVM...\n",
            "SVM Validation Accuracy: 0.7729\n"
          ]
        }
      ]
    },
    {
      "cell_type": "code",
      "source": [
        "# 4. Simple Neural Network (Baseline) - CUSTOM BUILT\n",
        "print(\"\\n4. Training Custom Neural Network (Baseline)...\")\n",
        "\n",
        "# Custom Neural Network built from scratch with TensorFlow (not using pre-trained models)\n",
        "class CustomNeuralNetwork:\n",
        "    def __init__(self, input_dim, hidden_dims, output_dim, learning_rate=0.001):\n",
        "        self.input_dim = input_dim\n",
        "        self.hidden_dims = hidden_dims\n",
        "        self.output_dim = output_dim\n",
        "        self.learning_rate = learning_rate\n",
        "        self.build_model()\n",
        "\n",
        "    def build_model(self):\n",
        "        \"\"\"Build custom neural network architecture\"\"\"\n",
        "        self.model = keras.Sequential()\n",
        "        self.model.add(keras.layers.Input(shape=(self.input_dim,)))\n",
        "\n",
        "        # Add hidden layers\n",
        "        for hidden_dim in self.hidden_dims:\n",
        "            self.model.add(keras.layers.Dense(hidden_dim, activation='relu'))\n",
        "            self.model.add(keras.layers.Dropout(0.3))\n",
        "\n",
        "        # Output layer\n",
        "        self.model.add(keras.layers.Dense(self.output_dim, activation='softmax'))\n",
        "\n",
        "        # Compile with custom optimizer\n",
        "        self.model.compile(\n",
        "            optimizer=keras.optimizers.Adam(learning_rate=self.learning_rate),\n",
        "            loss='sparse_categorical_crossentropy',\n",
        "            metrics=['accuracy']\n",
        "        )\n",
        "\n",
        "    def train(self, X_train, y_train, X_val, y_val, epochs=100, batch_size=32):\n",
        "        \"\"\"Train the model\"\"\"\n",
        "        early_stop = tf.keras.callbacks.EarlyStopping(patience=10, restore_best_weights=True)\n",
        "\n",
        "        history = self.model.fit(\n",
        "            X_train, y_train,\n",
        "            validation_data=(X_val, y_val),\n",
        "            epochs=epochs,\n",
        "            batch_size=batch_size,\n",
        "            callbacks=[early_stop],\n",
        "            verbose=0\n",
        "        )\n",
        "        return history\n",
        "\n",
        "    def predict(self, X):\n",
        "        \"\"\"Make predictions\"\"\"\n",
        "        return self.model.predict(X, verbose=0)\n",
        "\n",
        "# Create and train baseline neural network\n",
        "baseline_nn = CustomNeuralNetwork(\n",
        "    input_dim=X_train.shape[1],\n",
        "    hidden_dims=[64, 32],\n",
        "    output_dim=len(np.unique(y)),\n",
        "    learning_rate=0.001\n",
        ")\n",
        "\n",
        "baseline_history = baseline_nn.train(X_train, y_train, X_val, y_val)\n",
        "baseline_nn_pred = np.argmax(baseline_nn.predict(X_val), axis=1)\n",
        "baseline_nn_accuracy = accuracy_score(y_val, baseline_nn_pred)\n",
        "baseline_results['Custom Neural Network'] = baseline_nn_accuracy\n",
        "print(f\"Custom Neural Network Validation Accuracy: {baseline_nn_accuracy:.4f}\")"
      ],
      "metadata": {
        "colab": {
          "base_uri": "https://localhost:8080/"
        },
        "id": "B5Gp6tG4udZw",
        "outputId": "c262af64-1b4e-464d-b204-997216fbe6f7"
      },
      "execution_count": 4,
      "outputs": [
        {
          "output_type": "stream",
          "name": "stdout",
          "text": [
            "\n",
            "4. Training Custom Neural Network (Baseline)...\n",
            "Custom Neural Network Validation Accuracy: 0.8716\n"
          ]
        }
      ]
    },
    {
      "cell_type": "code",
      "source": [
        "# Print baseline summary\n",
        "print(\"\\n\" + \"=\"*30)\n",
        "print(\"BASELINE RESULTS SUMMARY\")\n",
        "print(\"=\"*30)\n",
        "for model_name, accuracy in baseline_results.items():\n",
        "    print(f\"{model_name}: {accuracy:.4f}\")\n",
        "\n",
        "best_baseline = max(baseline_results, key=baseline_results.get)\n",
        "best_baseline_score = baseline_results[best_baseline]\n",
        "print(f\"\\nBest Baseline Model: {best_baseline} ({best_baseline_score:.4f})\")"
      ],
      "metadata": {
        "colab": {
          "base_uri": "https://localhost:8080/"
        },
        "id": "bbZUR-Usuhaa",
        "outputId": "e231cdfe-c37b-4863-9857-c8b4d28b3191"
      },
      "execution_count": 5,
      "outputs": [
        {
          "output_type": "stream",
          "name": "stdout",
          "text": [
            "\n",
            "==============================\n",
            "BASELINE RESULTS SUMMARY\n",
            "==============================\n",
            "Logistic Regression: 0.7706\n",
            "Random Forest: 0.8005\n",
            "SVM: 0.7729\n",
            "Custom Neural Network: 0.8716\n",
            "\n",
            "Best Baseline Model: Custom Neural Network (0.8716)\n"
          ]
        }
      ]
    },
    {
      "cell_type": "code",
      "source": [
        "# ========== MANUAL HYPERPARAMETER TUNING ==========\n",
        "print(\"\\n\" + \"=\"*50)\n",
        "print(\"MANUAL HYPERPARAMETER TUNING\")\n",
        "print(\"=\"*50)\n",
        "\n",
        "# Define hyperparameter combinations to test manually\n",
        "hyperparameter_configs = [\n",
        "    {\n",
        "        'hidden_dims': [128, 64],\n",
        "        'learning_rate': 0.001,\n",
        "        'dropout_rate': 0.3,\n",
        "        'batch_size': 32\n",
        "    },\n",
        "    {\n",
        "        'hidden_dims': [256, 128, 64],\n",
        "        'learning_rate': 0.0005,\n",
        "        'dropout_rate': 0.4,\n",
        "        'batch_size': 64\n",
        "    },\n",
        "    {\n",
        "        'hidden_dims': [512, 256, 128],\n",
        "        'learning_rate': 0.001,\n",
        "        'dropout_rate': 0.5,\n",
        "        'batch_size': 32\n",
        "    },\n",
        "    {\n",
        "        'hidden_dims': [128, 64, 32],\n",
        "        'learning_rate': 0.01,\n",
        "        'dropout_rate': 0.2,\n",
        "        'batch_size': 16\n",
        "    },\n",
        "    {\n",
        "        'hidden_dims': [256, 128],\n",
        "        'learning_rate': 0.0001,\n",
        "        'dropout_rate': 0.3,\n",
        "        'batch_size': 64\n",
        "    }\n",
        "]\n",
        "\n",
        "class TunedNeuralNetwork:\n",
        "    def __init__(self, input_dim, hidden_dims, output_dim, learning_rate=0.001, dropout_rate=0.3):\n",
        "        self.input_dim = input_dim\n",
        "        self.hidden_dims = hidden_dims\n",
        "        self.output_dim = output_dim\n",
        "        self.learning_rate = learning_rate\n",
        "        self.dropout_rate = dropout_rate\n",
        "        self.build_model()\n",
        "\n",
        "    def build_model(self):\n",
        "        \"\"\"Build tuned neural network architecture\"\"\"\n",
        "        self.model = keras.Sequential()\n",
        "        self.model.add(keras.layers.Input(shape=(self.input_dim,)))\n",
        "\n",
        "        # Add hidden layers with batch normalization\n",
        "        for i, hidden_dim in enumerate(self.hidden_dims):\n",
        "            self.model.add(keras.layers.Dense(hidden_dim, activation='relu'))\n",
        "            self.model.add(keras.layers.BatchNormalization())\n",
        "            self.model.add(keras.layers.Dropout(self.dropout_rate))\n",
        "\n",
        "        # Output layer\n",
        "        self.model.add(keras.layers.Dense(self.output_dim, activation='softmax'))\n",
        "\n",
        "        # Compile with tuned parameters\n",
        "        self.model.compile(\n",
        "            optimizer=keras.optimizers.Adam(learning_rate=self.learning_rate),\n",
        "            loss='sparse_categorical_crossentropy',\n",
        "            metrics=['accuracy']\n",
        "        )\n",
        "\n",
        "    def train(self, X_train, y_train, X_val, y_val, epochs=150, batch_size=32):\n",
        "        \"\"\"Train the model with enhanced callbacks\"\"\"\n",
        "        callbacks = [\n",
        "            tf.keras.callbacks.EarlyStopping(patience=15, restore_best_weights=True),\n",
        "            tf.keras.callbacks.ReduceLROnPlateau(patience=8, factor=0.5, min_lr=1e-7)\n",
        "        ]\n",
        "\n",
        "        history = self.model.fit(\n",
        "            X_train, y_train,\n",
        "            validation_data=(X_val, y_val),\n",
        "            epochs=epochs,\n",
        "            batch_size=batch_size,\n",
        "            callbacks=callbacks,\n",
        "            verbose=0\n",
        "        )\n",
        "        return history\n",
        "\n",
        "    def predict(self, X):\n",
        "        \"\"\"Make predictions\"\"\"\n",
        "        return self.model.predict(X, verbose=0)\n",
        "\n",
        "\n",
        "# Test different configurations\n",
        "best_config = None\n",
        "best_accuracy = 0\n",
        "best_model = None\n",
        "\n",
        "print(\"Testing different hyperparameter configurations...\")\n",
        "for i, config in enumerate(hyperparameter_configs):\n",
        "    print(f\"\\nConfiguration {i+1}: {config}\")\n",
        "\n",
        "    # Create and train model\n",
        "    model = TunedNeuralNetwork(\n",
        "        input_dim=X_train.shape[1],\n",
        "        hidden_dims=config['hidden_dims'],\n",
        "        output_dim=len(np.unique(y)),\n",
        "        learning_rate=config['learning_rate'],\n",
        "        dropout_rate=config['dropout_rate']\n",
        "    )\n",
        "\n",
        "    history = model.train(\n",
        "        X_train, y_train, X_val, y_val,\n",
        "        batch_size=config['batch_size']\n",
        "    )\n",
        "\n",
        "    # Evaluate\n",
        "    predictions = np.argmax(model.predict(X_val), axis=1)\n",
        "    accuracy = accuracy_score(y_val, predictions)\n",
        "\n",
        "    print(f\"Validation Accuracy: {accuracy:.4f}\")\n",
        "\n",
        "    # Check if current configuration is better\n",
        "    if accuracy > best_accuracy:\n",
        "        best_accuracy = accuracy\n",
        "        best_config = config\n",
        "\n",
        "print(f\"\\nBest Configuration: {best_config}\")\n",
        "print(f\"Best Validation Accuracy: {best_accuracy:.4f}\")"
      ],
      "metadata": {
        "colab": {
          "base_uri": "https://localhost:8080/"
        },
        "id": "YG0H20p_uh6G",
        "outputId": "0e3b9616-059b-49ad-971f-f148c783a742"
      },
      "execution_count": 6,
      "outputs": [
        {
          "output_type": "stream",
          "name": "stdout",
          "text": [
            "\n",
            "==================================================\n",
            "MANUAL HYPERPARAMETER TUNING\n",
            "==================================================\n",
            "Testing different hyperparameter configurations...\n",
            "\n",
            "Configuration 1: {'hidden_dims': [128, 64], 'learning_rate': 0.001, 'dropout_rate': 0.3, 'batch_size': 32}\n",
            "Validation Accuracy: 0.8739\n",
            "\n",
            "Configuration 2: {'hidden_dims': [256, 128, 64], 'learning_rate': 0.0005, 'dropout_rate': 0.4, 'batch_size': 64}\n",
            "Validation Accuracy: 0.8624\n",
            "\n",
            "Configuration 3: {'hidden_dims': [512, 256, 128], 'learning_rate': 0.001, 'dropout_rate': 0.5, 'batch_size': 32}\n",
            "Validation Accuracy: 0.8876\n",
            "\n",
            "Configuration 4: {'hidden_dims': [128, 64, 32], 'learning_rate': 0.01, 'dropout_rate': 0.2, 'batch_size': 16}\n",
            "Validation Accuracy: 0.8578\n",
            "\n",
            "Configuration 5: {'hidden_dims': [256, 128], 'learning_rate': 0.0001, 'dropout_rate': 0.3, 'batch_size': 64}\n",
            "Validation Accuracy: 0.8165\n",
            "\n",
            "Best Configuration: {'hidden_dims': [512, 256, 128], 'learning_rate': 0.001, 'dropout_rate': 0.5, 'batch_size': 32}\n",
            "Best Validation Accuracy: 0.8876\n"
          ]
        }
      ]
    },
    {
      "cell_type": "code",
      "source": [
        "# ========== FINAL MODEL TRAINING ==========\n",
        "print(\"\\n\" + \"=\"*50)\n",
        "print(\"TRAINING FINAL MODEL\")\n",
        "print(\"=\"*50)\n",
        "\n",
        "# Train final model with best configuration\n",
        "final_model = TunedNeuralNetwork(\n",
        "    input_dim=X_train.shape[1],\n",
        "    hidden_dims=best_config['hidden_dims'],\n",
        "    output_dim=len(np.unique(y)),\n",
        "    learning_rate=best_config['learning_rate'],\n",
        "    dropout_rate=best_config['dropout_rate']\n",
        ")\n",
        "\n",
        "# Enhanced training with more epochs\n",
        "final_callbacks = [\n",
        "    tf.keras.callbacks.EarlyStopping(patience=20, restore_best_weights=True),\n",
        "    tf.keras.callbacks.ReduceLROnPlateau(patience=10, factor=0.5, min_lr=1e-7),\n",
        "    tf.keras.callbacks.ModelCheckpoint('best_model_checkpoint.h5', save_best_only=True, monitor='val_accuracy')\n",
        "]\n",
        "\n",
        "final_history = final_model.model.fit(\n",
        "    X_train, y_train,\n",
        "    validation_data=(X_val, y_val),\n",
        "    epochs=100,\n",
        "    batch_size=best_config['batch_size'],\n",
        "    callbacks=final_callbacks,\n",
        "    verbose=1\n",
        ")\n",
        "\n",
        "# Save final model\n",
        "final_model.model.save(\"model_klasifikasi_stunting_custom.h5\")\n",
        "print(\"Model saved as 'model_klasifikasi_stunting_custom.h5'\")"
      ],
      "metadata": {
        "colab": {
          "base_uri": "https://localhost:8080/"
        },
        "id": "kaIBmw8LvWBO",
        "outputId": "15360272-ca9b-4752-c3d6-a4d4320a7ea9"
      },
      "execution_count": 7,
      "outputs": [
        {
          "output_type": "stream",
          "name": "stdout",
          "text": [
            "\n",
            "==================================================\n",
            "TRAINING FINAL MODEL\n",
            "==================================================\n",
            "Epoch 1/100\n",
            "\u001b[1m40/41\u001b[0m \u001b[32m━━━━━━━━━━━━━━━━━━━\u001b[0m\u001b[37m━\u001b[0m \u001b[1m0s\u001b[0m 15ms/step - accuracy: 0.4186 - loss: 1.5920"
          ]
        },
        {
          "output_type": "stream",
          "name": "stderr",
          "text": [
            "WARNING:absl:You are saving your model as an HDF5 file via `model.save()` or `keras.saving.save_model(model)`. This file format is considered legacy. We recommend using instead the native Keras format, e.g. `model.save('my_model.keras')` or `keras.saving.save_model(model, 'my_model.keras')`. \n"
          ]
        },
        {
          "output_type": "stream",
          "name": "stdout",
          "text": [
            "\b\b\b\b\b\b\b\b\b\b\b\b\b\b\b\b\b\b\b\b\b\b\b\b\b\b\b\b\b\b\b\b\b\b\b\b\b\b\b\b\b\b\b\b\b\b\b\b\b\b\b\b\b\b\b\b\b\b\b\b\b\b\b\b\b\b\b\b\b\b\b\b\b\r\u001b[1m41/41\u001b[0m \u001b[32m━━━━━━━━━━━━━━━━━━━━\u001b[0m\u001b[37m\u001b[0m \u001b[1m5s\u001b[0m 29ms/step - accuracy: 0.4215 - loss: 1.5822 - val_accuracy: 0.5780 - val_loss: 1.0037 - learning_rate: 0.0010\n",
            "Epoch 2/100\n",
            "\u001b[1m40/41\u001b[0m \u001b[32m━━━━━━━━━━━━━━━━━━━\u001b[0m\u001b[37m━\u001b[0m \u001b[1m0s\u001b[0m 9ms/step - accuracy: 0.5542 - loss: 1.1222"
          ]
        },
        {
          "output_type": "stream",
          "name": "stderr",
          "text": [
            "WARNING:absl:You are saving your model as an HDF5 file via `model.save()` or `keras.saving.save_model(model)`. This file format is considered legacy. We recommend using instead the native Keras format, e.g. `model.save('my_model.keras')` or `keras.saving.save_model(model, 'my_model.keras')`. \n"
          ]
        },
        {
          "output_type": "stream",
          "name": "stdout",
          "text": [
            "\b\b\b\b\b\b\b\b\b\b\b\b\b\b\b\b\b\b\b\b\b\b\b\b\b\b\b\b\b\b\b\b\b\b\b\b\b\b\b\b\b\b\b\b\b\b\b\b\b\b\b\b\b\b\b\b\b\b\b\b\b\b\b\b\b\b\b\b\b\b\b\b\r\u001b[1m41/41\u001b[0m \u001b[32m━━━━━━━━━━━━━━━━━━━━\u001b[0m\u001b[37m\u001b[0m \u001b[1m1s\u001b[0m 13ms/step - accuracy: 0.5546 - loss: 1.1200 - val_accuracy: 0.6193 - val_loss: 0.9404 - learning_rate: 0.0010\n",
            "Epoch 3/100\n",
            "\u001b[1m41/41\u001b[0m \u001b[32m━━━━━━━━━━━━━━━━━━━━\u001b[0m\u001b[37m\u001b[0m \u001b[1m0s\u001b[0m 11ms/step - accuracy: 0.6464 - loss: 0.9138 - val_accuracy: 0.5986 - val_loss: 0.9150 - learning_rate: 0.0010\n",
            "Epoch 4/100\n",
            "\u001b[1m41/41\u001b[0m \u001b[32m━━━━━━━━━━━━━━━━━━━━\u001b[0m\u001b[37m\u001b[0m \u001b[1m0s\u001b[0m 11ms/step - accuracy: 0.6071 - loss: 0.9420 - val_accuracy: 0.5528 - val_loss: 0.8801 - learning_rate: 0.0010\n",
            "Epoch 5/100\n",
            "\u001b[1m41/41\u001b[0m \u001b[32m━━━━━━━━━━━━━━━━━━━━\u001b[0m\u001b[37m\u001b[0m \u001b[1m0s\u001b[0m 11ms/step - accuracy: 0.6529 - loss: 0.7504 - val_accuracy: 0.5550 - val_loss: 0.8509 - learning_rate: 0.0010\n",
            "Epoch 6/100\n",
            "\u001b[1m41/41\u001b[0m \u001b[32m━━━━━━━━━━━━━━━━━━━━\u001b[0m\u001b[37m\u001b[0m \u001b[1m0s\u001b[0m 8ms/step - accuracy: 0.6365 - loss: 0.8404"
          ]
        },
        {
          "output_type": "stream",
          "name": "stderr",
          "text": [
            "WARNING:absl:You are saving your model as an HDF5 file via `model.save()` or `keras.saving.save_model(model)`. This file format is considered legacy. We recommend using instead the native Keras format, e.g. `model.save('my_model.keras')` or `keras.saving.save_model(model, 'my_model.keras')`. \n"
          ]
        },
        {
          "output_type": "stream",
          "name": "stdout",
          "text": [
            "\b\b\b\b\b\b\b\b\b\b\b\b\b\b\b\b\b\b\b\b\b\b\b\b\b\b\b\b\b\b\b\b\b\b\b\b\b\b\b\b\b\b\b\b\b\b\b\b\b\b\b\b\b\b\b\b\b\b\b\b\b\b\b\b\b\b\b\b\b\b\b\b\r\u001b[1m41/41\u001b[0m \u001b[32m━━━━━━━━━━━━━━━━━━━━\u001b[0m\u001b[37m\u001b[0m \u001b[1m1s\u001b[0m 12ms/step - accuracy: 0.6367 - loss: 0.8398 - val_accuracy: 0.6376 - val_loss: 0.7919 - learning_rate: 0.0010\n",
            "Epoch 7/100\n",
            "\u001b[1m41/41\u001b[0m \u001b[32m━━━━━━━━━━━━━━━━━━━━\u001b[0m\u001b[37m\u001b[0m \u001b[1m0s\u001b[0m 11ms/step - accuracy: 0.6713 - loss: 0.7605 - val_accuracy: 0.5780 - val_loss: 0.7707 - learning_rate: 0.0010\n",
            "Epoch 8/100\n",
            "\u001b[1m41/41\u001b[0m \u001b[32m━━━━━━━━━━━━━━━━━━━━\u001b[0m\u001b[37m\u001b[0m \u001b[1m1s\u001b[0m 11ms/step - accuracy: 0.7046 - loss: 0.6314 - val_accuracy: 0.5734 - val_loss: 0.7378 - learning_rate: 0.0010\n",
            "Epoch 9/100\n",
            "\u001b[1m41/41\u001b[0m \u001b[32m━━━━━━━━━━━━━━━━━━━━\u001b[0m\u001b[37m\u001b[0m \u001b[1m1s\u001b[0m 13ms/step - accuracy: 0.7025 - loss: 0.6860 - val_accuracy: 0.6307 - val_loss: 0.6848 - learning_rate: 0.0010\n",
            "Epoch 10/100\n",
            "\u001b[1m36/41\u001b[0m \u001b[32m━━━━━━━━━━━━━━━━━\u001b[0m\u001b[37m━━━\u001b[0m \u001b[1m0s\u001b[0m 8ms/step - accuracy: 0.7094 - loss: 0.6938"
          ]
        },
        {
          "output_type": "stream",
          "name": "stderr",
          "text": [
            "WARNING:absl:You are saving your model as an HDF5 file via `model.save()` or `keras.saving.save_model(model)`. This file format is considered legacy. We recommend using instead the native Keras format, e.g. `model.save('my_model.keras')` or `keras.saving.save_model(model, 'my_model.keras')`. \n"
          ]
        },
        {
          "output_type": "stream",
          "name": "stdout",
          "text": [
            "\b\b\b\b\b\b\b\b\b\b\b\b\b\b\b\b\b\b\b\b\b\b\b\b\b\b\b\b\b\b\b\b\b\b\b\b\b\b\b\b\b\b\b\b\b\b\b\b\b\b\b\b\b\b\b\b\b\b\b\b\b\b\b\b\b\b\b\b\b\b\b\b\r\u001b[1m41/41\u001b[0m \u001b[32m━━━━━━━━━━━━━━━━━━━━\u001b[0m\u001b[37m\u001b[0m \u001b[1m1s\u001b[0m 12ms/step - accuracy: 0.7107 - loss: 0.6881 - val_accuracy: 0.6743 - val_loss: 0.6357 - learning_rate: 0.0010\n",
            "Epoch 11/100\n",
            "\u001b[1m35/41\u001b[0m \u001b[32m━━━━━━━━━━━━━━━━━\u001b[0m\u001b[37m━━━\u001b[0m \u001b[1m0s\u001b[0m 8ms/step - accuracy: 0.7244 - loss: 0.6796"
          ]
        },
        {
          "output_type": "stream",
          "name": "stderr",
          "text": [
            "WARNING:absl:You are saving your model as an HDF5 file via `model.save()` or `keras.saving.save_model(model)`. This file format is considered legacy. We recommend using instead the native Keras format, e.g. `model.save('my_model.keras')` or `keras.saving.save_model(model, 'my_model.keras')`. \n"
          ]
        },
        {
          "output_type": "stream",
          "name": "stdout",
          "text": [
            "\b\b\b\b\b\b\b\b\b\b\b\b\b\b\b\b\b\b\b\b\b\b\b\b\b\b\b\b\b\b\b\b\b\b\b\b\b\b\b\b\b\b\b\b\b\b\b\b\b\b\b\b\b\b\b\b\b\b\b\b\b\b\b\b\b\b\b\b\b\b\b\b\r\u001b[1m41/41\u001b[0m \u001b[32m━━━━━━━━━━━━━━━━━━━━\u001b[0m\u001b[37m\u001b[0m \u001b[1m1s\u001b[0m 13ms/step - accuracy: 0.7211 - loss: 0.6829 - val_accuracy: 0.7477 - val_loss: 0.6023 - learning_rate: 0.0010\n",
            "Epoch 12/100\n",
            "\u001b[1m41/41\u001b[0m \u001b[32m━━━━━━━━━━━━━━━━━━━━\u001b[0m\u001b[37m\u001b[0m \u001b[1m0s\u001b[0m 11ms/step - accuracy: 0.7295 - loss: 0.6314 - val_accuracy: 0.7362 - val_loss: 0.5665 - learning_rate: 0.0010\n",
            "Epoch 13/100\n",
            "\u001b[1m40/41\u001b[0m \u001b[32m━━━━━━━━━━━━━━━━━━━\u001b[0m\u001b[37m━\u001b[0m \u001b[1m0s\u001b[0m 8ms/step - accuracy: 0.7314 - loss: 0.6254"
          ]
        },
        {
          "output_type": "stream",
          "name": "stderr",
          "text": [
            "WARNING:absl:You are saving your model as an HDF5 file via `model.save()` or `keras.saving.save_model(model)`. This file format is considered legacy. We recommend using instead the native Keras format, e.g. `model.save('my_model.keras')` or `keras.saving.save_model(model, 'my_model.keras')`. \n"
          ]
        },
        {
          "output_type": "stream",
          "name": "stdout",
          "text": [
            "\b\b\b\b\b\b\b\b\b\b\b\b\b\b\b\b\b\b\b\b\b\b\b\b\b\b\b\b\b\b\b\b\b\b\b\b\b\b\b\b\b\b\b\b\b\b\b\b\b\b\b\b\b\b\b\b\b\b\b\b\b\b\b\b\b\b\b\b\b\b\b\b\r\u001b[1m41/41\u001b[0m \u001b[32m━━━━━━━━━━━━━━━━━━━━\u001b[0m\u001b[37m\u001b[0m \u001b[1m1s\u001b[0m 13ms/step - accuracy: 0.7321 - loss: 0.6254 - val_accuracy: 0.7867 - val_loss: 0.5339 - learning_rate: 0.0010\n",
            "Epoch 14/100\n",
            "\u001b[1m36/41\u001b[0m \u001b[32m━━━━━━━━━━━━━━━━━\u001b[0m\u001b[37m━━━\u001b[0m \u001b[1m0s\u001b[0m 8ms/step - accuracy: 0.7464 - loss: 0.6066"
          ]
        },
        {
          "output_type": "stream",
          "name": "stderr",
          "text": [
            "WARNING:absl:You are saving your model as an HDF5 file via `model.save()` or `keras.saving.save_model(model)`. This file format is considered legacy. We recommend using instead the native Keras format, e.g. `model.save('my_model.keras')` or `keras.saving.save_model(model, 'my_model.keras')`. \n"
          ]
        },
        {
          "output_type": "stream",
          "name": "stdout",
          "text": [
            "\b\b\b\b\b\b\b\b\b\b\b\b\b\b\b\b\b\b\b\b\b\b\b\b\b\b\b\b\b\b\b\b\b\b\b\b\b\b\b\b\b\b\b\b\b\b\b\b\b\b\b\b\b\b\b\b\b\b\b\b\b\b\b\b\b\b\b\b\b\b\b\b\r\u001b[1m41/41\u001b[0m \u001b[32m━━━━━━━━━━━━━━━━━━━━\u001b[0m\u001b[37m\u001b[0m \u001b[1m1s\u001b[0m 12ms/step - accuracy: 0.7439 - loss: 0.6095 - val_accuracy: 0.8050 - val_loss: 0.5187 - learning_rate: 0.0010\n",
            "Epoch 15/100\n",
            "\u001b[1m41/41\u001b[0m \u001b[32m━━━━━━━━━━━━━━━━━━━━\u001b[0m\u001b[37m\u001b[0m \u001b[1m1s\u001b[0m 11ms/step - accuracy: 0.7577 - loss: 0.5934 - val_accuracy: 0.8050 - val_loss: 0.5038 - learning_rate: 0.0010\n",
            "Epoch 16/100\n",
            "\u001b[1m35/41\u001b[0m \u001b[32m━━━━━━━━━━━━━━━━━\u001b[0m\u001b[37m━━━\u001b[0m \u001b[1m0s\u001b[0m 8ms/step - accuracy: 0.7388 - loss: 0.5901"
          ]
        },
        {
          "output_type": "stream",
          "name": "stderr",
          "text": [
            "WARNING:absl:You are saving your model as an HDF5 file via `model.save()` or `keras.saving.save_model(model)`. This file format is considered legacy. We recommend using instead the native Keras format, e.g. `model.save('my_model.keras')` or `keras.saving.save_model(model, 'my_model.keras')`. \n"
          ]
        },
        {
          "output_type": "stream",
          "name": "stdout",
          "text": [
            "\b\b\b\b\b\b\b\b\b\b\b\b\b\b\b\b\b\b\b\b\b\b\b\b\b\b\b\b\b\b\b\b\b\b\b\b\b\b\b\b\b\b\b\b\b\b\b\b\b\b\b\b\b\b\b\b\b\b\b\b\b\b\b\b\b\b\b\b\b\b\b\b\r\u001b[1m41/41\u001b[0m \u001b[32m━━━━━━━━━━━━━━━━━━━━\u001b[0m\u001b[37m\u001b[0m \u001b[1m1s\u001b[0m 12ms/step - accuracy: 0.7387 - loss: 0.5930 - val_accuracy: 0.8142 - val_loss: 0.4961 - learning_rate: 0.0010\n",
            "Epoch 17/100\n",
            "\u001b[1m41/41\u001b[0m \u001b[32m━━━━━━━━━━━━━━━━━━━━\u001b[0m\u001b[37m\u001b[0m \u001b[1m1s\u001b[0m 11ms/step - accuracy: 0.7413 - loss: 0.6016 - val_accuracy: 0.8119 - val_loss: 0.4718 - learning_rate: 0.0010\n",
            "Epoch 18/100\n",
            "\u001b[1m41/41\u001b[0m \u001b[32m━━━━━━━━━━━━━━━━━━━━\u001b[0m\u001b[37m\u001b[0m \u001b[1m1s\u001b[0m 12ms/step - accuracy: 0.7722 - loss: 0.6061 - val_accuracy: 0.8119 - val_loss: 0.4720 - learning_rate: 0.0010\n",
            "Epoch 19/100\n",
            "\u001b[1m38/41\u001b[0m \u001b[32m━━━━━━━━━━━━━━━━━━\u001b[0m\u001b[37m━━\u001b[0m \u001b[1m0s\u001b[0m 13ms/step - accuracy: 0.7703 - loss: 0.5459"
          ]
        },
        {
          "output_type": "stream",
          "name": "stderr",
          "text": [
            "WARNING:absl:You are saving your model as an HDF5 file via `model.save()` or `keras.saving.save_model(model)`. This file format is considered legacy. We recommend using instead the native Keras format, e.g. `model.save('my_model.keras')` or `keras.saving.save_model(model, 'my_model.keras')`. \n"
          ]
        },
        {
          "output_type": "stream",
          "name": "stdout",
          "text": [
            "\b\b\b\b\b\b\b\b\b\b\b\b\b\b\b\b\b\b\b\b\b\b\b\b\b\b\b\b\b\b\b\b\b\b\b\b\b\b\b\b\b\b\b\b\b\b\b\b\b\b\b\b\b\b\b\b\b\b\b\b\b\b\b\b\b\b\b\b\b\b\b\b\b\r\u001b[1m41/41\u001b[0m \u001b[32m━━━━━━━━━━━━━━━━━━━━\u001b[0m\u001b[37m\u001b[0m \u001b[1m1s\u001b[0m 20ms/step - accuracy: 0.7694 - loss: 0.5476 - val_accuracy: 0.8257 - val_loss: 0.4545 - learning_rate: 0.0010\n",
            "Epoch 20/100\n",
            "\u001b[1m41/41\u001b[0m \u001b[32m━━━━━━━━━━━━━━━━━━━━\u001b[0m\u001b[37m\u001b[0m \u001b[1m1s\u001b[0m 19ms/step - accuracy: 0.7581 - loss: 0.5828 - val_accuracy: 0.8050 - val_loss: 0.4495 - learning_rate: 0.0010\n",
            "Epoch 21/100\n",
            "\u001b[1m36/41\u001b[0m \u001b[32m━━━━━━━━━━━━━━━━━\u001b[0m\u001b[37m━━━\u001b[0m \u001b[1m0s\u001b[0m 8ms/step - accuracy: 0.7394 - loss: 0.6278"
          ]
        },
        {
          "output_type": "stream",
          "name": "stderr",
          "text": [
            "WARNING:absl:You are saving your model as an HDF5 file via `model.save()` or `keras.saving.save_model(model)`. This file format is considered legacy. We recommend using instead the native Keras format, e.g. `model.save('my_model.keras')` or `keras.saving.save_model(model, 'my_model.keras')`. \n"
          ]
        },
        {
          "output_type": "stream",
          "name": "stdout",
          "text": [
            "\b\b\b\b\b\b\b\b\b\b\b\b\b\b\b\b\b\b\b\b\b\b\b\b\b\b\b\b\b\b\b\b\b\b\b\b\b\b\b\b\b\b\b\b\b\b\b\b\b\b\b\b\b\b\b\b\b\b\b\b\b\b\b\b\b\b\b\b\b\b\b\b\r\u001b[1m41/41\u001b[0m \u001b[32m━━━━━━━━━━━━━━━━━━━━\u001b[0m\u001b[37m\u001b[0m \u001b[1m1s\u001b[0m 12ms/step - accuracy: 0.7443 - loss: 0.6196 - val_accuracy: 0.8303 - val_loss: 0.4434 - learning_rate: 0.0010\n",
            "Epoch 22/100\n",
            "\u001b[1m41/41\u001b[0m \u001b[32m━━━━━━━━━━━━━━━━━━━━\u001b[0m\u001b[37m\u001b[0m \u001b[1m1s\u001b[0m 10ms/step - accuracy: 0.7542 - loss: 0.5507 - val_accuracy: 0.8165 - val_loss: 0.4483 - learning_rate: 0.0010\n",
            "Epoch 23/100\n",
            "\u001b[1m41/41\u001b[0m \u001b[32m━━━━━━━━━━━━━━━━━━━━\u001b[0m\u001b[37m\u001b[0m \u001b[1m0s\u001b[0m 8ms/step - accuracy: 0.7741 - loss: 0.5508"
          ]
        },
        {
          "output_type": "stream",
          "name": "stderr",
          "text": [
            "WARNING:absl:You are saving your model as an HDF5 file via `model.save()` or `keras.saving.save_model(model)`. This file format is considered legacy. We recommend using instead the native Keras format, e.g. `model.save('my_model.keras')` or `keras.saving.save_model(model, 'my_model.keras')`. \n"
          ]
        },
        {
          "output_type": "stream",
          "name": "stdout",
          "text": [
            "\b\b\b\b\b\b\b\b\b\b\b\b\b\b\b\b\b\b\b\b\b\b\b\b\b\b\b\b\b\b\b\b\b\b\b\b\b\b\b\b\b\b\b\b\b\b\b\b\b\b\b\b\b\b\b\b\b\b\b\b\b\b\b\b\b\b\b\b\b\b\b\b\r\u001b[1m41/41\u001b[0m \u001b[32m━━━━━━━━━━━━━━━━━━━━\u001b[0m\u001b[37m\u001b[0m \u001b[1m1s\u001b[0m 12ms/step - accuracy: 0.7742 - loss: 0.5507 - val_accuracy: 0.8326 - val_loss: 0.4412 - learning_rate: 0.0010\n",
            "Epoch 24/100\n",
            "\u001b[1m41/41\u001b[0m \u001b[32m━━━━━━━━━━━━━━━━━━━━\u001b[0m\u001b[37m\u001b[0m \u001b[1m1s\u001b[0m 11ms/step - accuracy: 0.7990 - loss: 0.5168 - val_accuracy: 0.8303 - val_loss: 0.4367 - learning_rate: 0.0010\n",
            "Epoch 25/100\n",
            "\u001b[1m41/41\u001b[0m \u001b[32m━━━━━━━━━━━━━━━━━━━━\u001b[0m\u001b[37m\u001b[0m \u001b[1m0s\u001b[0m 11ms/step - accuracy: 0.7779 - loss: 0.5454 - val_accuracy: 0.8165 - val_loss: 0.4391 - learning_rate: 0.0010\n",
            "Epoch 26/100\n",
            "\u001b[1m36/41\u001b[0m \u001b[32m━━━━━━━━━━━━━━━━━\u001b[0m\u001b[37m━━━\u001b[0m \u001b[1m0s\u001b[0m 8ms/step - accuracy: 0.7954 - loss: 0.5331"
          ]
        },
        {
          "output_type": "stream",
          "name": "stderr",
          "text": [
            "WARNING:absl:You are saving your model as an HDF5 file via `model.save()` or `keras.saving.save_model(model)`. This file format is considered legacy. We recommend using instead the native Keras format, e.g. `model.save('my_model.keras')` or `keras.saving.save_model(model, 'my_model.keras')`. \n"
          ]
        },
        {
          "output_type": "stream",
          "name": "stdout",
          "text": [
            "\b\b\b\b\b\b\b\b\b\b\b\b\b\b\b\b\b\b\b\b\b\b\b\b\b\b\b\b\b\b\b\b\b\b\b\b\b\b\b\b\b\b\b\b\b\b\b\b\b\b\b\b\b\b\b\b\b\b\b\b\b\b\b\b\b\b\b\b\b\b\b\b\r\u001b[1m41/41\u001b[0m \u001b[32m━━━━━━━━━━━━━━━━━━━━\u001b[0m\u001b[37m\u001b[0m \u001b[1m1s\u001b[0m 12ms/step - accuracy: 0.7958 - loss: 0.5334 - val_accuracy: 0.8372 - val_loss: 0.4232 - learning_rate: 0.0010\n",
            "Epoch 27/100\n",
            "\u001b[1m41/41\u001b[0m \u001b[32m━━━━━━━━━━━━━━━━━━━━\u001b[0m\u001b[37m\u001b[0m \u001b[1m1s\u001b[0m 11ms/step - accuracy: 0.7579 - loss: 0.5613 - val_accuracy: 0.8234 - val_loss: 0.4301 - learning_rate: 0.0010\n",
            "Epoch 28/100\n",
            "\u001b[1m41/41\u001b[0m \u001b[32m━━━━━━━━━━━━━━━━━━━━\u001b[0m\u001b[37m\u001b[0m \u001b[1m0s\u001b[0m 11ms/step - accuracy: 0.7641 - loss: 0.5385 - val_accuracy: 0.8280 - val_loss: 0.4224 - learning_rate: 0.0010\n",
            "Epoch 29/100\n",
            "\u001b[1m41/41\u001b[0m \u001b[32m━━━━━━━━━━━━━━━━━━━━\u001b[0m\u001b[37m\u001b[0m \u001b[1m1s\u001b[0m 11ms/step - accuracy: 0.7858 - loss: 0.5350 - val_accuracy: 0.8326 - val_loss: 0.4183 - learning_rate: 0.0010\n",
            "Epoch 30/100\n",
            "\u001b[1m35/41\u001b[0m \u001b[32m━━━━━━━━━━━━━━━━━\u001b[0m\u001b[37m━━━\u001b[0m \u001b[1m0s\u001b[0m 8ms/step - accuracy: 0.7764 - loss: 0.5592"
          ]
        },
        {
          "output_type": "stream",
          "name": "stderr",
          "text": [
            "WARNING:absl:You are saving your model as an HDF5 file via `model.save()` or `keras.saving.save_model(model)`. This file format is considered legacy. We recommend using instead the native Keras format, e.g. `model.save('my_model.keras')` or `keras.saving.save_model(model, 'my_model.keras')`. \n"
          ]
        },
        {
          "output_type": "stream",
          "name": "stdout",
          "text": [
            "\b\b\b\b\b\b\b\b\b\b\b\b\b\b\b\b\b\b\b\b\b\b\b\b\b\b\b\b\b\b\b\b\b\b\b\b\b\b\b\b\b\b\b\b\b\b\b\b\b\b\b\b\b\b\b\b\b\b\b\b\b\b\b\b\b\b\b\b\b\b\b\b\r\u001b[1m41/41\u001b[0m \u001b[32m━━━━━━━━━━━━━━━━━━━━\u001b[0m\u001b[37m\u001b[0m \u001b[1m1s\u001b[0m 12ms/step - accuracy: 0.7786 - loss: 0.5545 - val_accuracy: 0.8440 - val_loss: 0.4357 - learning_rate: 0.0010\n",
            "Epoch 31/100\n",
            "\u001b[1m41/41\u001b[0m \u001b[32m━━━━━━━━━━━━━━━━━━━━\u001b[0m\u001b[37m\u001b[0m \u001b[1m1s\u001b[0m 12ms/step - accuracy: 0.7638 - loss: 0.6037 - val_accuracy: 0.8188 - val_loss: 0.4272 - learning_rate: 0.0010\n",
            "Epoch 32/100\n",
            "\u001b[1m41/41\u001b[0m \u001b[32m━━━━━━━━━━━━━━━━━━━━\u001b[0m\u001b[37m\u001b[0m \u001b[1m0s\u001b[0m 9ms/step - accuracy: 0.8003 - loss: 0.4926 - val_accuracy: 0.8326 - val_loss: 0.4254 - learning_rate: 0.0010\n",
            "Epoch 33/100\n",
            "\u001b[1m35/41\u001b[0m \u001b[32m━━━━━━━━━━━━━━━━━\u001b[0m\u001b[37m━━━\u001b[0m \u001b[1m0s\u001b[0m 6ms/step - accuracy: 0.7907 - loss: 0.5106"
          ]
        },
        {
          "output_type": "stream",
          "name": "stderr",
          "text": [
            "WARNING:absl:You are saving your model as an HDF5 file via `model.save()` or `keras.saving.save_model(model)`. This file format is considered legacy. We recommend using instead the native Keras format, e.g. `model.save('my_model.keras')` or `keras.saving.save_model(model, 'my_model.keras')`. \n"
          ]
        },
        {
          "output_type": "stream",
          "name": "stdout",
          "text": [
            "\b\b\b\b\b\b\b\b\b\b\b\b\b\b\b\b\b\b\b\b\b\b\b\b\b\b\b\b\b\b\b\b\b\b\b\b\b\b\b\b\b\b\b\b\b\b\b\b\b\b\b\b\b\b\b\b\b\b\b\b\b\b\b\b\b\b\b\b\b\b\b\b\r\u001b[1m41/41\u001b[0m \u001b[32m━━━━━━━━━━━━━━━━━━━━\u001b[0m\u001b[37m\u001b[0m \u001b[1m1s\u001b[0m 10ms/step - accuracy: 0.7887 - loss: 0.5139 - val_accuracy: 0.8509 - val_loss: 0.4155 - learning_rate: 0.0010\n",
            "Epoch 34/100\n",
            "\u001b[1m41/41\u001b[0m \u001b[32m━━━━━━━━━━━━━━━━━━━━\u001b[0m\u001b[37m\u001b[0m \u001b[1m0s\u001b[0m 11ms/step - accuracy: 0.8043 - loss: 0.5193 - val_accuracy: 0.8142 - val_loss: 0.4275 - learning_rate: 0.0010\n",
            "Epoch 35/100\n",
            "\u001b[1m41/41\u001b[0m \u001b[32m━━━━━━━━━━━━━━━━━━━━\u001b[0m\u001b[37m\u001b[0m \u001b[1m1s\u001b[0m 11ms/step - accuracy: 0.7577 - loss: 0.5651 - val_accuracy: 0.8372 - val_loss: 0.4137 - learning_rate: 0.0010\n",
            "Epoch 36/100\n",
            "\u001b[1m41/41\u001b[0m \u001b[32m━━━━━━━━━━━━━━━━━━━━\u001b[0m\u001b[37m\u001b[0m \u001b[1m0s\u001b[0m 11ms/step - accuracy: 0.8072 - loss: 0.4561 - val_accuracy: 0.8417 - val_loss: 0.4068 - learning_rate: 0.0010\n",
            "Epoch 37/100\n",
            "\u001b[1m41/41\u001b[0m \u001b[32m━━━━━━━━━━━━━━━━━━━━\u001b[0m\u001b[37m\u001b[0m \u001b[1m1s\u001b[0m 11ms/step - accuracy: 0.8021 - loss: 0.4710 - val_accuracy: 0.8486 - val_loss: 0.4034 - learning_rate: 0.0010\n",
            "Epoch 38/100\n",
            "\u001b[1m41/41\u001b[0m \u001b[32m━━━━━━━━━━━━━━━━━━━━\u001b[0m\u001b[37m\u001b[0m \u001b[1m1s\u001b[0m 15ms/step - accuracy: 0.7917 - loss: 0.5436 - val_accuracy: 0.8463 - val_loss: 0.4046 - learning_rate: 0.0010\n",
            "Epoch 39/100\n",
            "\u001b[1m41/41\u001b[0m \u001b[32m━━━━━━━━━━━━━━━━━━━━\u001b[0m\u001b[37m\u001b[0m \u001b[1m1s\u001b[0m 16ms/step - accuracy: 0.7847 - loss: 0.5442 - val_accuracy: 0.8463 - val_loss: 0.4190 - learning_rate: 0.0010\n",
            "Epoch 40/100\n",
            "\u001b[1m41/41\u001b[0m \u001b[32m━━━━━━━━━━━━━━━━━━━━\u001b[0m\u001b[37m\u001b[0m \u001b[1m1s\u001b[0m 17ms/step - accuracy: 0.8024 - loss: 0.5265 - val_accuracy: 0.8073 - val_loss: 0.4236 - learning_rate: 0.0010\n",
            "Epoch 41/100\n",
            "\u001b[1m35/41\u001b[0m \u001b[32m━━━━━━━━━━━━━━━━━\u001b[0m\u001b[37m━━━\u001b[0m \u001b[1m0s\u001b[0m 8ms/step - accuracy: 0.8072 - loss: 0.4778"
          ]
        },
        {
          "output_type": "stream",
          "name": "stderr",
          "text": [
            "WARNING:absl:You are saving your model as an HDF5 file via `model.save()` or `keras.saving.save_model(model)`. This file format is considered legacy. We recommend using instead the native Keras format, e.g. `model.save('my_model.keras')` or `keras.saving.save_model(model, 'my_model.keras')`. \n"
          ]
        },
        {
          "output_type": "stream",
          "name": "stdout",
          "text": [
            "\b\b\b\b\b\b\b\b\b\b\b\b\b\b\b\b\b\b\b\b\b\b\b\b\b\b\b\b\b\b\b\b\b\b\b\b\b\b\b\b\b\b\b\b\b\b\b\b\b\b\b\b\b\b\b\b\b\b\b\b\b\b\b\b\b\b\b\b\b\b\b\b\r\u001b[1m41/41\u001b[0m \u001b[32m━━━━━━━━━━━━━━━━━━━━\u001b[0m\u001b[37m\u001b[0m \u001b[1m1s\u001b[0m 12ms/step - accuracy: 0.8084 - loss: 0.4777 - val_accuracy: 0.8555 - val_loss: 0.4026 - learning_rate: 0.0010\n",
            "Epoch 42/100\n",
            "\u001b[1m41/41\u001b[0m \u001b[32m━━━━━━━━━━━━━━━━━━━━\u001b[0m\u001b[37m\u001b[0m \u001b[1m0s\u001b[0m 11ms/step - accuracy: 0.7882 - loss: 0.5136 - val_accuracy: 0.8394 - val_loss: 0.4022 - learning_rate: 0.0010\n",
            "Epoch 43/100\n",
            "\u001b[1m41/41\u001b[0m \u001b[32m━━━━━━━━━━━━━━━━━━━━\u001b[0m\u001b[37m\u001b[0m \u001b[1m1s\u001b[0m 9ms/step - accuracy: 0.7862 - loss: 0.5303 - val_accuracy: 0.8349 - val_loss: 0.4148 - learning_rate: 0.0010\n",
            "Epoch 44/100\n",
            "\u001b[1m41/41\u001b[0m \u001b[32m━━━━━━━━━━━━━━━━━━━━\u001b[0m\u001b[37m\u001b[0m \u001b[1m0s\u001b[0m 10ms/step - accuracy: 0.8062 - loss: 0.4847 - val_accuracy: 0.8555 - val_loss: 0.3989 - learning_rate: 0.0010\n",
            "Epoch 45/100\n",
            "\u001b[1m41/41\u001b[0m \u001b[32m━━━━━━━━━━━━━━━━━━━━\u001b[0m\u001b[37m\u001b[0m \u001b[1m0s\u001b[0m 9ms/step - accuracy: 0.7907 - loss: 0.5448 - val_accuracy: 0.8555 - val_loss: 0.4009 - learning_rate: 0.0010\n",
            "Epoch 46/100\n",
            "\u001b[1m41/41\u001b[0m \u001b[32m━━━━━━━━━━━━━━━━━━━━\u001b[0m\u001b[37m\u001b[0m \u001b[1m0s\u001b[0m 11ms/step - accuracy: 0.7927 - loss: 0.5036 - val_accuracy: 0.8463 - val_loss: 0.3945 - learning_rate: 0.0010\n",
            "Epoch 47/100\n",
            "\u001b[1m41/41\u001b[0m \u001b[32m━━━━━━━━━━━━━━━━━━━━\u001b[0m\u001b[37m\u001b[0m \u001b[1m0s\u001b[0m 11ms/step - accuracy: 0.8052 - loss: 0.4937 - val_accuracy: 0.8509 - val_loss: 0.3962 - learning_rate: 0.0010\n",
            "Epoch 48/100\n",
            "\u001b[1m41/41\u001b[0m \u001b[32m━━━━━━━━━━━━━━━━━━━━\u001b[0m\u001b[37m\u001b[0m \u001b[1m0s\u001b[0m 11ms/step - accuracy: 0.8053 - loss: 0.4867 - val_accuracy: 0.8394 - val_loss: 0.4047 - learning_rate: 0.0010\n",
            "Epoch 49/100\n",
            "\u001b[1m41/41\u001b[0m \u001b[32m━━━━━━━━━━━━━━━━━━━━\u001b[0m\u001b[37m\u001b[0m \u001b[1m0s\u001b[0m 11ms/step - accuracy: 0.8187 - loss: 0.4566 - val_accuracy: 0.8372 - val_loss: 0.3922 - learning_rate: 0.0010\n",
            "Epoch 50/100\n",
            "\u001b[1m41/41\u001b[0m \u001b[32m━━━━━━━━━━━━━━━━━━━━\u001b[0m\u001b[37m\u001b[0m \u001b[1m1s\u001b[0m 13ms/step - accuracy: 0.7964 - loss: 0.5126 - val_accuracy: 0.8509 - val_loss: 0.3817 - learning_rate: 0.0010\n",
            "Epoch 51/100\n",
            "\u001b[1m41/41\u001b[0m \u001b[32m━━━━━━━━━━━━━━━━━━━━\u001b[0m\u001b[37m\u001b[0m \u001b[1m1s\u001b[0m 12ms/step - accuracy: 0.8139 - loss: 0.4803 - val_accuracy: 0.8188 - val_loss: 0.4114 - learning_rate: 0.0010\n",
            "Epoch 52/100\n",
            "\u001b[1m40/41\u001b[0m \u001b[32m━━━━━━━━━━━━━━━━━━━\u001b[0m\u001b[37m━\u001b[0m \u001b[1m0s\u001b[0m 8ms/step - accuracy: 0.8224 - loss: 0.4479"
          ]
        },
        {
          "output_type": "stream",
          "name": "stderr",
          "text": [
            "WARNING:absl:You are saving your model as an HDF5 file via `model.save()` or `keras.saving.save_model(model)`. This file format is considered legacy. We recommend using instead the native Keras format, e.g. `model.save('my_model.keras')` or `keras.saving.save_model(model, 'my_model.keras')`. \n"
          ]
        },
        {
          "output_type": "stream",
          "name": "stdout",
          "text": [
            "\b\b\b\b\b\b\b\b\b\b\b\b\b\b\b\b\b\b\b\b\b\b\b\b\b\b\b\b\b\b\b\b\b\b\b\b\b\b\b\b\b\b\b\b\b\b\b\b\b\b\b\b\b\b\b\b\b\b\b\b\b\b\b\b\b\b\b\b\b\b\b\b\r\u001b[1m41/41\u001b[0m \u001b[32m━━━━━━━━━━━━━━━━━━━━\u001b[0m\u001b[37m\u001b[0m \u001b[1m1s\u001b[0m 13ms/step - accuracy: 0.8218 - loss: 0.4487 - val_accuracy: 0.8647 - val_loss: 0.3757 - learning_rate: 0.0010\n",
            "Epoch 53/100\n",
            "\u001b[1m41/41\u001b[0m \u001b[32m━━━━━━━━━━━━━━━━━━━━\u001b[0m\u001b[37m\u001b[0m \u001b[1m1s\u001b[0m 11ms/step - accuracy: 0.8104 - loss: 0.4957 - val_accuracy: 0.8578 - val_loss: 0.3698 - learning_rate: 0.0010\n",
            "Epoch 54/100\n",
            "\u001b[1m41/41\u001b[0m \u001b[32m━━━━━━━━━━━━━━━━━━━━\u001b[0m\u001b[37m\u001b[0m \u001b[1m1s\u001b[0m 13ms/step - accuracy: 0.7930 - loss: 0.5137 - val_accuracy: 0.8303 - val_loss: 0.4072 - learning_rate: 0.0010\n",
            "Epoch 55/100\n",
            "\u001b[1m41/41\u001b[0m \u001b[32m━━━━━━━━━━━━━━━━━━━━\u001b[0m\u001b[37m\u001b[0m \u001b[1m1s\u001b[0m 10ms/step - accuracy: 0.7993 - loss: 0.4769 - val_accuracy: 0.8578 - val_loss: 0.3867 - learning_rate: 0.0010\n",
            "Epoch 56/100\n",
            "\u001b[1m41/41\u001b[0m \u001b[32m━━━━━━━━━━━━━━━━━━━━\u001b[0m\u001b[37m\u001b[0m \u001b[1m1s\u001b[0m 13ms/step - accuracy: 0.8222 - loss: 0.4642 - val_accuracy: 0.8394 - val_loss: 0.3869 - learning_rate: 0.0010\n",
            "Epoch 57/100\n",
            "\u001b[1m41/41\u001b[0m \u001b[32m━━━━━━━━━━━━━━━━━━━━\u001b[0m\u001b[37m\u001b[0m \u001b[1m1s\u001b[0m 11ms/step - accuracy: 0.8069 - loss: 0.4714 - val_accuracy: 0.8532 - val_loss: 0.3921 - learning_rate: 0.0010\n",
            "Epoch 58/100\n",
            "\u001b[1m41/41\u001b[0m \u001b[32m━━━━━━━━━━━━━━━━━━━━\u001b[0m\u001b[37m\u001b[0m \u001b[1m1s\u001b[0m 11ms/step - accuracy: 0.8308 - loss: 0.4507 - val_accuracy: 0.8417 - val_loss: 0.3823 - learning_rate: 0.0010\n",
            "Epoch 59/100\n",
            "\u001b[1m41/41\u001b[0m \u001b[32m━━━━━━━━━━━━━━━━━━━━\u001b[0m\u001b[37m\u001b[0m \u001b[1m1s\u001b[0m 12ms/step - accuracy: 0.8040 - loss: 0.4791 - val_accuracy: 0.8440 - val_loss: 0.4038 - learning_rate: 0.0010\n",
            "Epoch 60/100\n",
            "\u001b[1m41/41\u001b[0m \u001b[32m━━━━━━━━━━━━━━━━━━━━\u001b[0m\u001b[37m\u001b[0m \u001b[1m1s\u001b[0m 18ms/step - accuracy: 0.8083 - loss: 0.5045 - val_accuracy: 0.8257 - val_loss: 0.4190 - learning_rate: 0.0010\n",
            "Epoch 61/100\n",
            "\u001b[1m41/41\u001b[0m \u001b[32m━━━━━━━━━━━━━━━━━━━━\u001b[0m\u001b[37m\u001b[0m \u001b[1m1s\u001b[0m 17ms/step - accuracy: 0.8418 - loss: 0.4443 - val_accuracy: 0.8555 - val_loss: 0.3855 - learning_rate: 0.0010\n",
            "Epoch 62/100\n",
            "\u001b[1m41/41\u001b[0m \u001b[32m━━━━━━━━━━━━━━━━━━━━\u001b[0m\u001b[37m\u001b[0m \u001b[1m1s\u001b[0m 14ms/step - accuracy: 0.8161 - loss: 0.4838 - val_accuracy: 0.8326 - val_loss: 0.3881 - learning_rate: 0.0010\n",
            "Epoch 63/100\n",
            "\u001b[1m41/41\u001b[0m \u001b[32m━━━━━━━━━━━━━━━━━━━━\u001b[0m\u001b[37m\u001b[0m \u001b[1m0s\u001b[0m 11ms/step - accuracy: 0.8210 - loss: 0.4707 - val_accuracy: 0.8486 - val_loss: 0.3808 - learning_rate: 0.0010\n",
            "Epoch 64/100\n",
            "\u001b[1m41/41\u001b[0m \u001b[32m━━━━━━━━━━━━━━━━━━━━\u001b[0m\u001b[37m\u001b[0m \u001b[1m1s\u001b[0m 10ms/step - accuracy: 0.8390 - loss: 0.4349 - val_accuracy: 0.8647 - val_loss: 0.3639 - learning_rate: 5.0000e-04\n",
            "Epoch 65/100\n",
            "\u001b[1m41/41\u001b[0m \u001b[32m━━━━━━━━━━━━━━━━━━━━\u001b[0m\u001b[37m\u001b[0m \u001b[1m1s\u001b[0m 11ms/step - accuracy: 0.8208 - loss: 0.4552 - val_accuracy: 0.8647 - val_loss: 0.3674 - learning_rate: 5.0000e-04\n",
            "Epoch 66/100\n",
            "\u001b[1m36/41\u001b[0m \u001b[32m━━━━━━━━━━━━━━━━━\u001b[0m\u001b[37m━━━\u001b[0m \u001b[1m0s\u001b[0m 8ms/step - accuracy: 0.8322 - loss: 0.4239"
          ]
        },
        {
          "output_type": "stream",
          "name": "stderr",
          "text": [
            "WARNING:absl:You are saving your model as an HDF5 file via `model.save()` or `keras.saving.save_model(model)`. This file format is considered legacy. We recommend using instead the native Keras format, e.g. `model.save('my_model.keras')` or `keras.saving.save_model(model, 'my_model.keras')`. \n"
          ]
        },
        {
          "output_type": "stream",
          "name": "stdout",
          "text": [
            "\b\b\b\b\b\b\b\b\b\b\b\b\b\b\b\b\b\b\b\b\b\b\b\b\b\b\b\b\b\b\b\b\b\b\b\b\b\b\b\b\b\b\b\b\b\b\b\b\b\b\b\b\b\b\b\b\b\b\b\b\b\b\b\b\b\b\b\b\b\b\b\b\r\u001b[1m41/41\u001b[0m \u001b[32m━━━━━━━━━━━━━━━━━━━━\u001b[0m\u001b[37m\u001b[0m \u001b[1m1s\u001b[0m 12ms/step - accuracy: 0.8320 - loss: 0.4247 - val_accuracy: 0.8670 - val_loss: 0.3608 - learning_rate: 5.0000e-04\n",
            "Epoch 67/100\n",
            "\u001b[1m36/41\u001b[0m \u001b[32m━━━━━━━━━━━━━━━━━\u001b[0m\u001b[37m━━━\u001b[0m \u001b[1m0s\u001b[0m 8ms/step - accuracy: 0.8212 - loss: 0.4516"
          ]
        },
        {
          "output_type": "stream",
          "name": "stderr",
          "text": [
            "WARNING:absl:You are saving your model as an HDF5 file via `model.save()` or `keras.saving.save_model(model)`. This file format is considered legacy. We recommend using instead the native Keras format, e.g. `model.save('my_model.keras')` or `keras.saving.save_model(model, 'my_model.keras')`. \n"
          ]
        },
        {
          "output_type": "stream",
          "name": "stdout",
          "text": [
            "\b\b\b\b\b\b\b\b\b\b\b\b\b\b\b\b\b\b\b\b\b\b\b\b\b\b\b\b\b\b\b\b\b\b\b\b\b\b\b\b\b\b\b\b\b\b\b\b\b\b\b\b\b\b\b\b\b\b\b\b\b\b\b\b\b\b\b\b\b\b\b\b\r\u001b[1m41/41\u001b[0m \u001b[32m━━━━━━━━━━━━━━━━━━━━\u001b[0m\u001b[37m\u001b[0m \u001b[1m1s\u001b[0m 12ms/step - accuracy: 0.8218 - loss: 0.4498 - val_accuracy: 0.8739 - val_loss: 0.3530 - learning_rate: 5.0000e-04\n",
            "Epoch 68/100\n",
            "\u001b[1m41/41\u001b[0m \u001b[32m━━━━━━━━━━━━━━━━━━━━\u001b[0m\u001b[37m\u001b[0m \u001b[1m1s\u001b[0m 11ms/step - accuracy: 0.8326 - loss: 0.4193 - val_accuracy: 0.8693 - val_loss: 0.3588 - learning_rate: 5.0000e-04\n",
            "Epoch 69/100\n",
            "\u001b[1m41/41\u001b[0m \u001b[32m━━━━━━━━━━━━━━━━━━━━\u001b[0m\u001b[37m\u001b[0m \u001b[1m1s\u001b[0m 11ms/step - accuracy: 0.8362 - loss: 0.4325 - val_accuracy: 0.8532 - val_loss: 0.3559 - learning_rate: 5.0000e-04\n",
            "Epoch 70/100\n",
            "\u001b[1m41/41\u001b[0m \u001b[32m━━━━━━━━━━━━━━━━━━━━\u001b[0m\u001b[37m\u001b[0m \u001b[1m1s\u001b[0m 11ms/step - accuracy: 0.8254 - loss: 0.4466 - val_accuracy: 0.8417 - val_loss: 0.3711 - learning_rate: 5.0000e-04\n",
            "Epoch 71/100\n",
            "\u001b[1m41/41\u001b[0m \u001b[32m━━━━━━━━━━━━━━━━━━━━\u001b[0m\u001b[37m\u001b[0m \u001b[1m1s\u001b[0m 9ms/step - accuracy: 0.8327 - loss: 0.4205 - val_accuracy: 0.8647 - val_loss: 0.3523 - learning_rate: 5.0000e-04\n",
            "Epoch 72/100\n",
            "\u001b[1m41/41\u001b[0m \u001b[32m━━━━━━━━━━━━━━━━━━━━\u001b[0m\u001b[37m\u001b[0m \u001b[1m0s\u001b[0m 8ms/step - accuracy: 0.8304 - loss: 0.4345 - val_accuracy: 0.8509 - val_loss: 0.3589 - learning_rate: 5.0000e-04\n",
            "Epoch 73/100\n",
            "\u001b[1m41/41\u001b[0m \u001b[32m━━━━━━━━━━━━━━━━━━━━\u001b[0m\u001b[37m\u001b[0m \u001b[1m1s\u001b[0m 9ms/step - accuracy: 0.8191 - loss: 0.4222 - val_accuracy: 0.8509 - val_loss: 0.3657 - learning_rate: 5.0000e-04\n",
            "Epoch 74/100\n",
            "\u001b[1m41/41\u001b[0m \u001b[32m━━━━━━━━━━━━━━━━━━━━\u001b[0m\u001b[37m\u001b[0m \u001b[1m0s\u001b[0m 9ms/step - accuracy: 0.8029 - loss: 0.4803 - val_accuracy: 0.8509 - val_loss: 0.3630 - learning_rate: 5.0000e-04\n",
            "Epoch 75/100\n",
            "\u001b[1m41/41\u001b[0m \u001b[32m━━━━━━━━━━━━━━━━━━━━\u001b[0m\u001b[37m\u001b[0m \u001b[1m1s\u001b[0m 10ms/step - accuracy: 0.8461 - loss: 0.4152 - val_accuracy: 0.8624 - val_loss: 0.3592 - learning_rate: 5.0000e-04\n",
            "Epoch 76/100\n",
            "\u001b[1m41/41\u001b[0m \u001b[32m━━━━━━━━━━━━━━━━━━━━\u001b[0m\u001b[37m\u001b[0m \u001b[1m0s\u001b[0m 9ms/step - accuracy: 0.8426 - loss: 0.4150 - val_accuracy: 0.8578 - val_loss: 0.3578 - learning_rate: 5.0000e-04\n",
            "Epoch 77/100\n",
            "\u001b[1m41/41\u001b[0m \u001b[32m━━━━━━━━━━━━━━━━━━━━\u001b[0m\u001b[37m\u001b[0m \u001b[1m0s\u001b[0m 10ms/step - accuracy: 0.8426 - loss: 0.4027 - val_accuracy: 0.8532 - val_loss: 0.3661 - learning_rate: 5.0000e-04\n",
            "Epoch 78/100\n",
            "\u001b[1m41/41\u001b[0m \u001b[32m━━━━━━━━━━━━━━━━━━━━\u001b[0m\u001b[37m\u001b[0m \u001b[1m1s\u001b[0m 11ms/step - accuracy: 0.8371 - loss: 0.4058 - val_accuracy: 0.8601 - val_loss: 0.3541 - learning_rate: 5.0000e-04\n",
            "Epoch 79/100\n",
            "\u001b[1m41/41\u001b[0m \u001b[32m━━━━━━━━━━━━━━━━━━━━\u001b[0m\u001b[37m\u001b[0m \u001b[1m1s\u001b[0m 11ms/step - accuracy: 0.8424 - loss: 0.3859 - val_accuracy: 0.8716 - val_loss: 0.3506 - learning_rate: 5.0000e-04\n",
            "Epoch 80/100\n",
            "\u001b[1m41/41\u001b[0m \u001b[32m━━━━━━━━━━━━━━━━━━━━\u001b[0m\u001b[37m\u001b[0m \u001b[1m1s\u001b[0m 15ms/step - accuracy: 0.8453 - loss: 0.4054 - val_accuracy: 0.8532 - val_loss: 0.3596 - learning_rate: 5.0000e-04\n",
            "Epoch 81/100\n",
            "\u001b[1m41/41\u001b[0m \u001b[32m━━━━━━━━━━━━━━━━━━━━\u001b[0m\u001b[37m\u001b[0m \u001b[1m1s\u001b[0m 19ms/step - accuracy: 0.8392 - loss: 0.4286 - val_accuracy: 0.8486 - val_loss: 0.3494 - learning_rate: 5.0000e-04\n",
            "Epoch 82/100\n",
            "\u001b[1m38/41\u001b[0m \u001b[32m━━━━━━━━━━━━━━━━━━\u001b[0m\u001b[37m━━\u001b[0m \u001b[1m0s\u001b[0m 9ms/step - accuracy: 0.8358 - loss: 0.4205"
          ]
        },
        {
          "output_type": "stream",
          "name": "stderr",
          "text": [
            "WARNING:absl:You are saving your model as an HDF5 file via `model.save()` or `keras.saving.save_model(model)`. This file format is considered legacy. We recommend using instead the native Keras format, e.g. `model.save('my_model.keras')` or `keras.saving.save_model(model, 'my_model.keras')`. \n"
          ]
        },
        {
          "output_type": "stream",
          "name": "stdout",
          "text": [
            "\b\b\b\b\b\b\b\b\b\b\b\b\b\b\b\b\b\b\b\b\b\b\b\b\b\b\b\b\b\b\b\b\b\b\b\b\b\b\b\b\b\b\b\b\b\b\b\b\b\b\b\b\b\b\b\b\b\b\b\b\b\b\b\b\b\b\b\b\b\b\b\b\r\u001b[1m41/41\u001b[0m \u001b[32m━━━━━━━━━━━━━━━━━━━━\u001b[0m\u001b[37m\u001b[0m \u001b[1m1s\u001b[0m 13ms/step - accuracy: 0.8353 - loss: 0.4211 - val_accuracy: 0.8761 - val_loss: 0.3373 - learning_rate: 5.0000e-04\n",
            "Epoch 83/100\n",
            "\u001b[1m41/41\u001b[0m \u001b[32m━━━━━━━━━━━━━━━━━━━━\u001b[0m\u001b[37m\u001b[0m \u001b[1m1s\u001b[0m 11ms/step - accuracy: 0.8247 - loss: 0.4470 - val_accuracy: 0.8601 - val_loss: 0.3450 - learning_rate: 5.0000e-04\n",
            "Epoch 84/100\n",
            "\u001b[1m41/41\u001b[0m \u001b[32m━━━━━━━━━━━━━━━━━━━━\u001b[0m\u001b[37m\u001b[0m \u001b[1m1s\u001b[0m 10ms/step - accuracy: 0.8191 - loss: 0.4436 - val_accuracy: 0.8349 - val_loss: 0.3675 - learning_rate: 5.0000e-04\n",
            "Epoch 85/100\n",
            "\u001b[1m41/41\u001b[0m \u001b[32m━━━━━━━━━━━━━━━━━━━━\u001b[0m\u001b[37m\u001b[0m \u001b[1m1s\u001b[0m 12ms/step - accuracy: 0.8413 - loss: 0.3950 - val_accuracy: 0.8601 - val_loss: 0.3486 - learning_rate: 5.0000e-04\n",
            "Epoch 86/100\n",
            "\u001b[1m41/41\u001b[0m \u001b[32m━━━━━━━━━━━━━━━━━━━━\u001b[0m\u001b[37m\u001b[0m \u001b[1m1s\u001b[0m 11ms/step - accuracy: 0.8358 - loss: 0.4170 - val_accuracy: 0.8601 - val_loss: 0.3465 - learning_rate: 5.0000e-04\n",
            "Epoch 87/100\n",
            "\u001b[1m41/41\u001b[0m \u001b[32m━━━━━━━━━━━━━━━━━━━━\u001b[0m\u001b[37m\u001b[0m \u001b[1m1s\u001b[0m 11ms/step - accuracy: 0.8310 - loss: 0.4179 - val_accuracy: 0.8670 - val_loss: 0.3458 - learning_rate: 5.0000e-04\n",
            "Epoch 88/100\n",
            "\u001b[1m41/41\u001b[0m \u001b[32m━━━━━━━━━━━━━━━━━━━━\u001b[0m\u001b[37m\u001b[0m \u001b[1m1s\u001b[0m 11ms/step - accuracy: 0.8276 - loss: 0.4056 - val_accuracy: 0.8647 - val_loss: 0.3434 - learning_rate: 5.0000e-04\n",
            "Epoch 89/100\n",
            "\u001b[1m41/41\u001b[0m \u001b[32m━━━━━━━━━━━━━━━━━━━━\u001b[0m\u001b[37m\u001b[0m \u001b[1m1s\u001b[0m 11ms/step - accuracy: 0.8377 - loss: 0.4313 - val_accuracy: 0.8670 - val_loss: 0.3381 - learning_rate: 5.0000e-04\n",
            "Epoch 90/100\n",
            "\u001b[1m41/41\u001b[0m \u001b[32m━━━━━━━━━━━━━━━━━━━━\u001b[0m\u001b[37m\u001b[0m \u001b[1m1s\u001b[0m 12ms/step - accuracy: 0.8347 - loss: 0.4280 - val_accuracy: 0.8578 - val_loss: 0.3460 - learning_rate: 5.0000e-04\n",
            "Epoch 91/100\n",
            "\u001b[1m41/41\u001b[0m \u001b[32m━━━━━━━━━━━━━━━━━━━━\u001b[0m\u001b[37m\u001b[0m \u001b[1m0s\u001b[0m 10ms/step - accuracy: 0.8379 - loss: 0.4214 - val_accuracy: 0.8670 - val_loss: 0.3414 - learning_rate: 5.0000e-04\n",
            "Epoch 92/100\n",
            "\u001b[1m41/41\u001b[0m \u001b[32m━━━━━━━━━━━━━━━━━━━━\u001b[0m\u001b[37m\u001b[0m \u001b[1m0s\u001b[0m 11ms/step - accuracy: 0.8446 - loss: 0.3858 - val_accuracy: 0.8739 - val_loss: 0.3364 - learning_rate: 5.0000e-04\n",
            "Epoch 93/100\n",
            "\u001b[1m41/41\u001b[0m \u001b[32m━━━━━━━━━━━━━━━━━━━━\u001b[0m\u001b[37m\u001b[0m \u001b[1m0s\u001b[0m 11ms/step - accuracy: 0.8577 - loss: 0.3930 - val_accuracy: 0.8716 - val_loss: 0.3362 - learning_rate: 5.0000e-04\n",
            "Epoch 94/100\n",
            "\u001b[1m41/41\u001b[0m \u001b[32m━━━━━━━━━━━━━━━━━━━━\u001b[0m\u001b[37m\u001b[0m \u001b[1m1s\u001b[0m 11ms/step - accuracy: 0.8623 - loss: 0.3968 - val_accuracy: 0.8739 - val_loss: 0.3329 - learning_rate: 5.0000e-04\n",
            "Epoch 95/100\n",
            "\u001b[1m41/41\u001b[0m \u001b[32m━━━━━━━━━━━━━━━━━━━━\u001b[0m\u001b[37m\u001b[0m \u001b[1m0s\u001b[0m 11ms/step - accuracy: 0.8231 - loss: 0.4352 - val_accuracy: 0.8716 - val_loss: 0.3464 - learning_rate: 5.0000e-04\n",
            "Epoch 96/100\n",
            "\u001b[1m40/41\u001b[0m \u001b[32m━━━━━━━━━━━━━━━━━━━\u001b[0m\u001b[37m━\u001b[0m \u001b[1m0s\u001b[0m 8ms/step - accuracy: 0.8440 - loss: 0.3918"
          ]
        },
        {
          "output_type": "stream",
          "name": "stderr",
          "text": [
            "WARNING:absl:You are saving your model as an HDF5 file via `model.save()` or `keras.saving.save_model(model)`. This file format is considered legacy. We recommend using instead the native Keras format, e.g. `model.save('my_model.keras')` or `keras.saving.save_model(model, 'my_model.keras')`. \n"
          ]
        },
        {
          "output_type": "stream",
          "name": "stdout",
          "text": [
            "\b\b\b\b\b\b\b\b\b\b\b\b\b\b\b\b\b\b\b\b\b\b\b\b\b\b\b\b\b\b\b\b\b\b\b\b\b\b\b\b\b\b\b\b\b\b\b\b\b\b\b\b\b\b\b\b\b\b\b\b\b\b\b\b\b\b\b\b\b\b\b\b\r\u001b[1m41/41\u001b[0m \u001b[32m━━━━━━━━━━━━━━━━━━━━\u001b[0m\u001b[37m\u001b[0m \u001b[1m1s\u001b[0m 13ms/step - accuracy: 0.8439 - loss: 0.3926 - val_accuracy: 0.8853 - val_loss: 0.3379 - learning_rate: 5.0000e-04\n",
            "Epoch 97/100\n",
            "\u001b[1m41/41\u001b[0m \u001b[32m━━━━━━━━━━━━━━━━━━━━\u001b[0m\u001b[37m\u001b[0m \u001b[1m1s\u001b[0m 11ms/step - accuracy: 0.8694 - loss: 0.3645 - val_accuracy: 0.8784 - val_loss: 0.3349 - learning_rate: 5.0000e-04\n",
            "Epoch 98/100\n",
            "\u001b[1m41/41\u001b[0m \u001b[32m━━━━━━━━━━━━━━━━━━━━\u001b[0m\u001b[37m\u001b[0m \u001b[1m1s\u001b[0m 12ms/step - accuracy: 0.8227 - loss: 0.4935 - val_accuracy: 0.8739 - val_loss: 0.3361 - learning_rate: 5.0000e-04\n",
            "Epoch 99/100\n",
            "\u001b[1m41/41\u001b[0m \u001b[32m━━━━━━━━━━━━━━━━━━━━\u001b[0m\u001b[37m\u001b[0m \u001b[1m1s\u001b[0m 20ms/step - accuracy: 0.8609 - loss: 0.3655 - val_accuracy: 0.8670 - val_loss: 0.3414 - learning_rate: 5.0000e-04\n",
            "Epoch 100/100\n",
            "\u001b[1m41/41\u001b[0m \u001b[32m━━━━━━━━━━━━━━━━━━━━\u001b[0m\u001b[37m\u001b[0m \u001b[1m1s\u001b[0m 19ms/step - accuracy: 0.8506 - loss: 0.3865 - val_accuracy: 0.8647 - val_loss: 0.3437 - learning_rate: 5.0000e-04\n"
          ]
        },
        {
          "output_type": "stream",
          "name": "stderr",
          "text": [
            "WARNING:absl:You are saving your model as an HDF5 file via `model.save()` or `keras.saving.save_model(model)`. This file format is considered legacy. We recommend using instead the native Keras format, e.g. `model.save('my_model.keras')` or `keras.saving.save_model(model, 'my_model.keras')`. \n"
          ]
        },
        {
          "output_type": "stream",
          "name": "stdout",
          "text": [
            "Model saved as 'model_klasifikasi_stunting_custom.h5'\n"
          ]
        }
      ]
    },
    {
      "cell_type": "code",
      "source": [
        "# ========== FINAL EVALUATION ==========\n",
        "print(\"\\n\" + \"=\"*50)\n",
        "print(\"FINAL EVALUATION\")\n",
        "print(\"=\"*50)\n",
        "\n",
        "# Evaluate on test set\n",
        "test_predictions = np.argmax(final_model.predict(X_test), axis=1)\n",
        "test_accuracy = accuracy_score(y_test, test_predictions)\n",
        "\n",
        "print(f\"Final Test Accuracy: {test_accuracy:.4f}\")\n",
        "print(f\"Improvement over best baseline: {test_accuracy - best_baseline_score:.4f}\")\n",
        "\n",
        "print(\"\\nDetailed Classification Report:\")\n",
        "print(classification_report(y_test, test_predictions, target_names=status_encoder.classes_))\n",
        "\n",
        "print(\"\\nConfusion Matrix:\")\n",
        "print(confusion_matrix(y_test, test_predictions))\n",
        "\n",
        "# Plot training history\n",
        "plt.figure(figsize=(12, 4))\n",
        "\n",
        "plt.subplot(1, 2, 1)\n",
        "plt.plot(final_history.history['loss'], label='Training Loss')\n",
        "plt.plot(final_history.history['val_loss'], label='Validation Loss')\n",
        "plt.title('Model Loss')\n",
        "plt.xlabel('Epoch')\n",
        "plt.ylabel('Loss')\n",
        "plt.legend()\n",
        "\n",
        "plt.subplot(1, 2, 2)\n",
        "plt.plot(final_history.history['accuracy'], label='Training Accuracy')\n",
        "plt.plot(final_history.history['val_accuracy'], label='Validation Accuracy')\n",
        "plt.title('Model Accuracy')\n",
        "plt.xlabel('Epoch')\n",
        "plt.ylabel('Accuracy')\n",
        "plt.legend()\n",
        "\n",
        "plt.tight_layout()\n",
        "plt.savefig('training_history.png', dpi=300, bbox_inches='tight')\n",
        "plt.show()"
      ],
      "metadata": {
        "colab": {
          "base_uri": "https://localhost:8080/",
          "height": 781
        },
        "id": "XrJkvNO1vczf",
        "outputId": "cd3317a3-dee4-43cc-f702-177b546abff8"
      },
      "execution_count": 8,
      "outputs": [
        {
          "output_type": "stream",
          "name": "stdout",
          "text": [
            "\n",
            "==================================================\n",
            "FINAL EVALUATION\n",
            "==================================================\n",
            "Final Test Accuracy: 0.8578\n",
            "Improvement over best baseline: -0.0138\n",
            "\n",
            "Detailed Classification Report:\n",
            "                   precision    recall  f1-score   support\n",
            "\n",
            "           Normal       0.77      0.97      0.86       145\n",
            "Severely Stunting       0.95      0.84      0.89       146\n",
            "         Stunting       0.88      0.77      0.82       145\n",
            "\n",
            "         accuracy                           0.86       436\n",
            "        macro avg       0.87      0.86      0.86       436\n",
            "     weighted avg       0.87      0.86      0.86       436\n",
            "\n",
            "\n",
            "Confusion Matrix:\n",
            "[[140   0   5]\n",
            " [ 14 122  10]\n",
            " [ 27   6 112]]\n"
          ]
        },
        {
          "output_type": "display_data",
          "data": {
            "text/plain": [
              "<Figure size 1200x400 with 2 Axes>"
            ],
            "image/png": "[encoded data removed]"
          },
          "metadata": {}
        }
      ]
    },
    {
      "cell_type": "code",
      "source": [
        "\n",
        "# ========== CUSTOM INFERENCE FUNCTION ==========\n",
        "def prediksi_stunting_custom(data_input_dict):\n",
        "    \"\"\"\n",
        "    Custom inference function for stunting prediction\n",
        "    Built from scratch without using external API services\n",
        "    \"\"\"\n",
        "    try:\n",
        "        # Load custom trained model and preprocessors\n",
        "        model = tf.keras.models.load_model(\"model_klasifikasi_stunting_custom.h5\")\n",
        "        scaler = joblib.load(\"scaler.pkl\")\n",
        "        status_encoder = joblib.load(\"status_encoder.pkl\")\n",
        "        jk_encoder = joblib.load(\"jk_encoder.pkl\")\n",
        "\n",
        "        # Manual encoding (not using external services)\n",
        "        jk_encoded = 1 if data_input_dict['JK'].lower() == 'laki-laki' else 0\n",
        "\n",
        "        # Prepare input array\n",
        "        data_array = np.array([[\n",
        "            jk_encoded,\n",
        "            data_input_dict['BB_Lahir'],\n",
        "            data_input_dict['TB_Lahir'],\n",
        "            data_input_dict['Umur'],\n",
        "            data_input_dict['Berat'],\n",
        "            data_input_dict['Tinggi']\n",
        "        ]])\n",
        "\n",
        "        # Scale data using our own scaler\n",
        "        data_scaled = scaler.transform(data_array)\n",
        "\n",
        "        # Make prediction using our custom model\n",
        "        pred_proba = model.predict(data_scaled, verbose=0)\n",
        "        pred_class = np.argmax(pred_proba, axis=1)\n",
        "\n",
        "        # Get all class probabilities\n",
        "        class_probabilities = {}\n",
        "        for i, class_name in enumerate(status_encoder.classes_):\n",
        "            class_probabilities[class_name] = float(pred_proba[0][i])\n",
        "\n",
        "        # Custom confidence calculation\n",
        "        confidence = float(np.max(pred_proba))\n",
        "        predicted_label = status_encoder.inverse_transform(pred_class)[0]\n",
        "\n",
        "        return {\n",
        "            \"predicted_label\": predicted_label,\n",
        "            \"confidence\": confidence,\n",
        "            \"all_probabilities\": class_probabilities,\n",
        "            \"model_type\": \"Custom Built Neural Network\"\n",
        "        }\n",
        "\n",
        "    except Exception as e:\n",
        "        return {\"error\": f\"Custom inference failed: {str(e)}\"}\n",
        "\n",
        "# Test custom prediction function\n",
        "print(\"\\n\" + \"=\"*50)\n",
        "print(\"TESTING CUSTOM INFERENCE\")\n",
        "print(\"=\"*50)\n",
        "\n",
        "data_test = {\n",
        "    \"JK\": \"Laki-laki\",\n",
        "    \"BB_Lahir\": 3.0,\n",
        "    \"TB_Lahir\": 50,\n",
        "    \"Umur\": 24,\n",
        "    \"Berat\": 10.5,\n",
        "    \"Tinggi\": 87\n",
        "}\n",
        "\n",
        "hasil = prediksi_stunting_custom(data_test)\n",
        "if \"error\" not in hasil:\n",
        "    print(\"Model Type:\", hasil[\"model_type\"])\n",
        "    print(\"Hasil Prediksi:\", hasil[\"predicted_label\"])\n",
        "    print(\"Tingkat Keyakinan: {:.2f}%\".format(hasil[\"confidence\"] * 100))\n",
        "    print(\"\\nProbabilitas untuk setiap kelas:\")\n",
        "    for class_name, prob in hasil[\"all_probabilities\"].items():\n",
        "        print(f\"  {class_name}: {prob:.4f} ({prob*100:.2f}%)\")\n",
        "else:\n",
        "    print(hasil[\"error\"])"
      ],
      "metadata": {
        "colab": {
          "base_uri": "https://localhost:8080/"
        },
        "id": "jxJbmmuwzr8i",
        "outputId": "6a39283e-77ee-468a-f89b-f3e10e276e5a"
      },
      "execution_count": 9,
      "outputs": [
        {
          "output_type": "stream",
          "name": "stderr",
          "text": [
            "WARNING:absl:Compiled the loaded model, but the compiled metrics have yet to be built. `model.compile_metrics` will be empty until you train or evaluate the model.\n"
          ]
        },
        {
          "output_type": "stream",
          "name": "stdout",
          "text": [
            "\n",
            "==================================================\n",
            "TESTING CUSTOM INFERENCE\n",
            "==================================================\n"
          ]
        },
        {
          "output_type": "stream",
          "name": "stderr",
          "text": [
            "/usr/local/lib/python3.11/dist-packages/sklearn/utils/validation.py:2739: UserWarning: X does not have valid feature names, but StandardScaler was fitted with feature names\n",
            "  warnings.warn(\n"
          ]
        },
        {
          "output_type": "stream",
          "name": "stdout",
          "text": [
            "Model Type: Custom Built Neural Network\n",
            "Hasil Prediksi: Normal\n",
            "Tingkat Keyakinan: 70.68%\n",
            "\n",
            "Probabilitas untuk setiap kelas:\n",
            "  Normal: 0.7068 (70.68%)\n",
            "  Severely Stunting: 0.0440 (4.40%)\n",
            "  Stunting: 0.2492 (24.92%)\n"
          ]
        }
      ]
    }
  ]
}